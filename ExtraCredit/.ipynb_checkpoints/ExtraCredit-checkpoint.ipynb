{
 "cells": [
  {
   "cell_type": "code",
   "execution_count": 1,
   "id": "587f31bc",
   "metadata": {},
   "outputs": [],
   "source": [
    "import warnings\n",
    "warnings.filterwarnings('ignore')"
   ]
  },
  {
   "cell_type": "code",
   "execution_count": 2,
   "id": "e1dadd6b",
   "metadata": {},
   "outputs": [],
   "source": [
    "import pandas as pd\n",
    "import numpy as np\n",
    "import random as rn\n",
    "import seaborn as sns\n",
    "import matplotlib.pyplot as plt\n",
    "from sklearn.model_selection import train_test_split\n",
    "from sklearn.linear_model import LogisticRegression\n",
    "from sklearn.tree import DecisionTreeClassifier\n",
    "from sklearn.ensemble import RandomForestClassifier\n",
    "from sklearn.metrics import accuracy_score, classification_report\n",
    "from sklearn.model_selection import GridSearchCV, StratifiedShuffleSplit\n",
    "from sklearn.neighbors import KNeighborsClassifier\n",
    "from sklearn.svm import SVC"
   ]
  },
  {
   "cell_type": "code",
   "execution_count": 3,
   "id": "d0eb2f46",
   "metadata": {},
   "outputs": [],
   "source": [
    "random_state_num = 42\n",
    "rn.seed(random_state_num)"
   ]
  },
  {
   "cell_type": "code",
   "execution_count": 4,
   "id": "c7ab3ad7",
   "metadata": {},
   "outputs": [
    {
     "data": {
      "text/html": [
       "<div>\n",
       "<style scoped>\n",
       "    .dataframe tbody tr th:only-of-type {\n",
       "        vertical-align: middle;\n",
       "    }\n",
       "\n",
       "    .dataframe tbody tr th {\n",
       "        vertical-align: top;\n",
       "    }\n",
       "\n",
       "    .dataframe thead th {\n",
       "        text-align: right;\n",
       "    }\n",
       "</style>\n",
       "<table border=\"1\" class=\"dataframe\">\n",
       "  <thead>\n",
       "    <tr style=\"text-align: right;\">\n",
       "      <th></th>\n",
       "      <th>0</th>\n",
       "      <th>1</th>\n",
       "      <th>2</th>\n",
       "      <th>3</th>\n",
       "      <th>4</th>\n",
       "      <th>5</th>\n",
       "      <th>6</th>\n",
       "      <th>7</th>\n",
       "      <th>8</th>\n",
       "      <th>9</th>\n",
       "      <th>...</th>\n",
       "      <th>3056</th>\n",
       "      <th>3057</th>\n",
       "      <th>3058</th>\n",
       "      <th>3059</th>\n",
       "      <th>3060</th>\n",
       "      <th>3061</th>\n",
       "      <th>3062</th>\n",
       "      <th>3063</th>\n",
       "      <th>3064</th>\n",
       "      <th>labels</th>\n",
       "    </tr>\n",
       "  </thead>\n",
       "  <tbody>\n",
       "    <tr>\n",
       "      <th>0</th>\n",
       "      <td>0</td>\n",
       "      <td>0</td>\n",
       "      <td>0</td>\n",
       "      <td>0</td>\n",
       "      <td>0</td>\n",
       "      <td>0.0</td>\n",
       "      <td>0</td>\n",
       "      <td>0</td>\n",
       "      <td>0</td>\n",
       "      <td>0.0</td>\n",
       "      <td>...</td>\n",
       "      <td>0</td>\n",
       "      <td>0</td>\n",
       "      <td>0</td>\n",
       "      <td>0</td>\n",
       "      <td>0</td>\n",
       "      <td>0</td>\n",
       "      <td>0</td>\n",
       "      <td>0</td>\n",
       "      <td>0</td>\n",
       "      <td>2</td>\n",
       "    </tr>\n",
       "    <tr>\n",
       "      <th>1</th>\n",
       "      <td>0</td>\n",
       "      <td>0</td>\n",
       "      <td>0</td>\n",
       "      <td>0</td>\n",
       "      <td>0</td>\n",
       "      <td>0.0</td>\n",
       "      <td>0</td>\n",
       "      <td>0</td>\n",
       "      <td>0</td>\n",
       "      <td>0.0</td>\n",
       "      <td>...</td>\n",
       "      <td>0</td>\n",
       "      <td>0</td>\n",
       "      <td>0</td>\n",
       "      <td>0</td>\n",
       "      <td>0</td>\n",
       "      <td>0</td>\n",
       "      <td>0</td>\n",
       "      <td>0</td>\n",
       "      <td>0</td>\n",
       "      <td>2</td>\n",
       "    </tr>\n",
       "    <tr>\n",
       "      <th>2</th>\n",
       "      <td>0</td>\n",
       "      <td>0</td>\n",
       "      <td>0</td>\n",
       "      <td>0</td>\n",
       "      <td>0</td>\n",
       "      <td>0.0</td>\n",
       "      <td>0</td>\n",
       "      <td>0</td>\n",
       "      <td>0</td>\n",
       "      <td>0.0</td>\n",
       "      <td>...</td>\n",
       "      <td>0</td>\n",
       "      <td>0</td>\n",
       "      <td>0</td>\n",
       "      <td>0</td>\n",
       "      <td>0</td>\n",
       "      <td>0</td>\n",
       "      <td>0</td>\n",
       "      <td>0</td>\n",
       "      <td>0</td>\n",
       "      <td>2</td>\n",
       "    </tr>\n",
       "    <tr>\n",
       "      <th>3</th>\n",
       "      <td>0</td>\n",
       "      <td>0</td>\n",
       "      <td>0</td>\n",
       "      <td>0</td>\n",
       "      <td>0</td>\n",
       "      <td>0.0</td>\n",
       "      <td>0</td>\n",
       "      <td>0</td>\n",
       "      <td>0</td>\n",
       "      <td>0.0</td>\n",
       "      <td>...</td>\n",
       "      <td>0</td>\n",
       "      <td>1</td>\n",
       "      <td>0</td>\n",
       "      <td>0</td>\n",
       "      <td>0</td>\n",
       "      <td>0</td>\n",
       "      <td>0</td>\n",
       "      <td>1</td>\n",
       "      <td>0</td>\n",
       "      <td>2</td>\n",
       "    </tr>\n",
       "    <tr>\n",
       "      <th>4</th>\n",
       "      <td>0</td>\n",
       "      <td>0</td>\n",
       "      <td>0</td>\n",
       "      <td>0</td>\n",
       "      <td>0</td>\n",
       "      <td>0.0</td>\n",
       "      <td>0</td>\n",
       "      <td>0</td>\n",
       "      <td>0</td>\n",
       "      <td>0.0</td>\n",
       "      <td>...</td>\n",
       "      <td>0</td>\n",
       "      <td>0</td>\n",
       "      <td>0</td>\n",
       "      <td>0</td>\n",
       "      <td>0</td>\n",
       "      <td>0</td>\n",
       "      <td>0</td>\n",
       "      <td>0</td>\n",
       "      <td>0</td>\n",
       "      <td>2</td>\n",
       "    </tr>\n",
       "  </tbody>\n",
       "</table>\n",
       "<p>5 rows × 3066 columns</p>\n",
       "</div>"
      ],
      "text/plain": [
       "   0  1  2  3  4    5  6  7  8    9  ...  3056  3057  3058  3059  3060  3061  \\\n",
       "0  0  0  0  0  0  0.0  0  0  0  0.0  ...     0     0     0     0     0     0   \n",
       "1  0  0  0  0  0  0.0  0  0  0  0.0  ...     0     0     0     0     0     0   \n",
       "2  0  0  0  0  0  0.0  0  0  0  0.0  ...     0     0     0     0     0     0   \n",
       "3  0  0  0  0  0  0.0  0  0  0  0.0  ...     0     1     0     0     0     0   \n",
       "4  0  0  0  0  0  0.0  0  0  0  0.0  ...     0     0     0     0     0     0   \n",
       "\n",
       "   3062  3063  3064  labels  \n",
       "0     0     0     0       2  \n",
       "1     0     0     0       2  \n",
       "2     0     0     0       2  \n",
       "3     0     1     0       2  \n",
       "4     0     0     0       2  \n",
       "\n",
       "[5 rows x 3066 columns]"
      ]
     },
     "execution_count": 4,
     "metadata": {},
     "output_type": "execute_result"
    }
   ],
   "source": [
    "# Import the data set and view 5 rows\n",
    "df_master = pd.read_csv('survey_encoded_data.csv')\n",
    "df_master.head()"
   ]
  },
  {
   "cell_type": "code",
   "execution_count": 5,
   "id": "3c26c409",
   "metadata": {},
   "outputs": [
    {
     "name": "stdout",
     "output_type": "stream",
     "text": [
      "No missing data is found\n",
      "\n"
     ]
    },
    {
     "data": {
      "text/plain": [
       "array([ 2,  8,  0, 10, 14,  1, 11, 12,  6, 13,  4,  3,  7,  5,  9])"
      ]
     },
     "execution_count": 5,
     "metadata": {},
     "output_type": "execute_result"
    }
   ],
   "source": [
    "# First explore any of the missing data\n",
    "if len(df_master.isna().sum()[df_master.isna().sum()> 0]) > 0:\n",
    "    print('There is some missing data that needs to be preprocessed\\n')\n",
    "else:\n",
    "    print('No missing data is found\\n')\n",
    "    \n",
    "    \n",
    "# Check the unique label values\n",
    "df_master['labels'].unique()"
   ]
  },
  {
   "cell_type": "code",
   "execution_count": 6,
   "id": "deadc9a4",
   "metadata": {},
   "outputs": [],
   "source": [
    "lable_counts = df_master['labels'].value_counts()\n",
    "lable_counts = lable_counts[lable_counts == 1].index\n",
    "df_master_filters = df_master[~df_master['labels'].isin(lable_counts)]"
   ]
  },
  {
   "cell_type": "markdown",
   "id": "3b427ef9",
   "metadata": {},
   "source": [
    "Since, we can't stratified split any label whose value just appears once, we can't predict/test-train split. Hence, I choose to drop such rows.\n",
    "\n",
    "1. Since the data is already encoded, and column labels are not avialble, it's wise enough to proceed with Model Building as no real meaning for input variable relation can be drawn from encoded data set.\n",
    "\n",
    "2. I will first split the data set into test,train,validation"
   ]
  },
  {
   "cell_type": "code",
   "execution_count": 7,
   "id": "292e7b5f",
   "metadata": {},
   "outputs": [
    {
     "data": {
      "text/html": [
       "<div>\n",
       "<style scoped>\n",
       "    .dataframe tbody tr th:only-of-type {\n",
       "        vertical-align: middle;\n",
       "    }\n",
       "\n",
       "    .dataframe tbody tr th {\n",
       "        vertical-align: top;\n",
       "    }\n",
       "\n",
       "    .dataframe thead th {\n",
       "        text-align: right;\n",
       "    }\n",
       "</style>\n",
       "<table border=\"1\" class=\"dataframe\">\n",
       "  <thead>\n",
       "    <tr style=\"text-align: right;\">\n",
       "      <th></th>\n",
       "      <th>labels</th>\n",
       "      <th>count</th>\n",
       "    </tr>\n",
       "  </thead>\n",
       "  <tbody>\n",
       "    <tr>\n",
       "      <th>0</th>\n",
       "      <td>0</td>\n",
       "      <td>7</td>\n",
       "    </tr>\n",
       "    <tr>\n",
       "      <th>1</th>\n",
       "      <td>1</td>\n",
       "      <td>10</td>\n",
       "    </tr>\n",
       "    <tr>\n",
       "      <th>2</th>\n",
       "      <td>2</td>\n",
       "      <td>17</td>\n",
       "    </tr>\n",
       "    <tr>\n",
       "      <th>3</th>\n",
       "      <td>4</td>\n",
       "      <td>3</td>\n",
       "    </tr>\n",
       "    <tr>\n",
       "      <th>4</th>\n",
       "      <td>6</td>\n",
       "      <td>7</td>\n",
       "    </tr>\n",
       "    <tr>\n",
       "      <th>5</th>\n",
       "      <td>8</td>\n",
       "      <td>8</td>\n",
       "    </tr>\n",
       "    <tr>\n",
       "      <th>6</th>\n",
       "      <td>9</td>\n",
       "      <td>6</td>\n",
       "    </tr>\n",
       "    <tr>\n",
       "      <th>7</th>\n",
       "      <td>10</td>\n",
       "      <td>12</td>\n",
       "    </tr>\n",
       "    <tr>\n",
       "      <th>8</th>\n",
       "      <td>11</td>\n",
       "      <td>8</td>\n",
       "    </tr>\n",
       "    <tr>\n",
       "      <th>9</th>\n",
       "      <td>12</td>\n",
       "      <td>7</td>\n",
       "    </tr>\n",
       "    <tr>\n",
       "      <th>10</th>\n",
       "      <td>13</td>\n",
       "      <td>6</td>\n",
       "    </tr>\n",
       "    <tr>\n",
       "      <th>11</th>\n",
       "      <td>14</td>\n",
       "      <td>18</td>\n",
       "    </tr>\n",
       "  </tbody>\n",
       "</table>\n",
       "</div>"
      ],
      "text/plain": [
       "    labels  count\n",
       "0        0      7\n",
       "1        1     10\n",
       "2        2     17\n",
       "3        4      3\n",
       "4        6      7\n",
       "5        8      8\n",
       "6        9      6\n",
       "7       10     12\n",
       "8       11      8\n",
       "9       12      7\n",
       "10      13      6\n",
       "11      14     18"
      ]
     },
     "execution_count": 7,
     "metadata": {},
     "output_type": "execute_result"
    }
   ],
   "source": [
    "df_master_filters.groupby('labels').size().reset_index(name='count')"
   ]
  },
  {
   "cell_type": "code",
   "execution_count": 8,
   "id": "8536f21b",
   "metadata": {},
   "outputs": [],
   "source": [
    "input_columns = list(df_master_filters.columns)\n",
    "if 'labels' in input_columns:\n",
    "    input_columns.remove('labels')"
   ]
  },
  {
   "cell_type": "markdown",
   "id": "8a1eee23",
   "metadata": {},
   "source": [
    "## Test Train Validation Split"
   ]
  },
  {
   "cell_type": "code",
   "execution_count": 9,
   "id": "e25b92d3",
   "metadata": {},
   "outputs": [],
   "source": [
    "# Test Train Split\n",
    "X_train, X_test, y_train, y_test = train_test_split(df_master_filters[input_columns], \n",
    "                                                    df_master_filters['labels'], \n",
    "                                                    test_size=0.20, \n",
    "                                                    random_state=42, \n",
    "                                                    stratify=df_master_filters['labels'])\n",
    "\n",
    "# Further split the train set into train and validation sets\n",
    "X_train, X_val, y_train, y_val = train_test_split(X_train, y_train, \n",
    "                                                  test_size=0.2, \n",
    "                                                  random_state=42,\n",
    "                                                  stratify=y_train)"
   ]
  },
  {
   "cell_type": "code",
   "execution_count": 10,
   "id": "913b3118",
   "metadata": {},
   "outputs": [],
   "source": [
    "model_scores = {}"
   ]
  },
  {
   "cell_type": "markdown",
   "id": "24ab3092",
   "metadata": {},
   "source": [
    "## Model 1: Logistic Regression"
   ]
  },
  {
   "cell_type": "code",
   "execution_count": 11,
   "id": "84536903",
   "metadata": {},
   "outputs": [
    {
     "name": "stdout",
     "output_type": "stream",
     "text": [
      "Best tuned Logistic Regression Parameters:  {'C': 1, 'max_iter': 100, 'penalty': 'l1', 'solver': 'liblinear'}\n",
      "Logistics Regression Accuracy\n",
      "\tBefore Tunning -> 0.2727272727272727\n",
      "\tAfter Tunning -> 0.36363636363636365\n"
     ]
    }
   ],
   "source": [
    "lr_model = LogisticRegression(random_state=random_state_num)\n",
    "lr_model.fit(X_train, y_train)\n",
    "y_pred = lr_model.predict(X_test)\n",
    "\n",
    "lr_accuracy_before = accuracy_score(y_test, y_pred)\n",
    "model_scores['LR-before'] = lr_accuracy_before\n",
    "\n",
    "# Now let's tune the parameters\n",
    "param_grid = {\n",
    "    'C': [0.001, 0.01, 0.1, 1, 10, 100, 1000],\n",
    "    'penalty': ['l1', 'l2'],\n",
    "    'solver': ['liblinear', 'newton-cg', 'lbfgs', 'sag', 'saga'],\n",
    "    'max_iter': [100, 200, 300],\n",
    "}\n",
    "\n",
    "\n",
    "lr_model_tune = LogisticRegression(random_state= random_state_num)\n",
    "grid_search = GridSearchCV(lr_model_tune, param_grid, cv=3, scoring='accuracy')\n",
    "grid_search.fit(X_val, y_val)\n",
    "\n",
    "print('Best tuned Logistic Regression Parameters: ', grid_search.best_params_)\n",
    "best_model_lr = LogisticRegression(**grid_search.best_params_)\n",
    "best_model_lr.fit(X_train, y_train)\n",
    "y_pred_tune = best_model_lr.predict(X_test)\n",
    "lr_accuracy_after = accuracy_score(y_test, y_pred_tune)\n",
    "model_scores['LR-after'] = lr_accuracy_after\n",
    "\n",
    "print(f'Logistics Regression Accuracy\\n\\tBefore Tunning -> {lr_accuracy_before}\\n\\tAfter Tunning -> {lr_accuracy_after}')"
   ]
  },
  {
   "cell_type": "markdown",
   "id": "6feeaa27",
   "metadata": {},
   "source": [
    "## Model 2: Decision Trees"
   ]
  },
  {
   "cell_type": "code",
   "execution_count": 12,
   "id": "10240a9c",
   "metadata": {},
   "outputs": [
    {
     "name": "stdout",
     "output_type": "stream",
     "text": [
      "Best tuned Decision Tree Parameters:  {'criterion': 'gini', 'max_depth': None, 'max_features': None, 'min_samples_leaf': 2, 'min_samples_split': 2}\n",
      "Decision Tree Accuracy\n",
      "\tBefore Tunning -> 0.36363636363636365\n",
      "\tAfter Tunning -> 0.2727272727272727\n"
     ]
    }
   ],
   "source": [
    "dt_model = DecisionTreeClassifier(random_state= random_state_num)\n",
    "dt_model.fit(X_train, y_train)\n",
    "y_pred = dt_model.predict(X_test)\n",
    "\n",
    "dt_accuracy_before = accuracy_score(y_test, y_pred)\n",
    "model_scores['DT-before'] = dt_accuracy_before\n",
    "\n",
    "# Now let's tune the parameters\n",
    "param_grid = {\n",
    "    'criterion': ['gini', 'entropy'],\n",
    "    'max_depth': [None, 10, 20, 30, 40, 50],\n",
    "    'min_samples_split': [2, 5, 10],\n",
    "    'min_samples_leaf': [1, 2, 4],\n",
    "    'max_features': [None, 'sqrt', 'log2'],\n",
    "}\n",
    "\n",
    "dt_model_tune = DecisionTreeClassifier(random_state= random_state_num)\n",
    "grid_search = GridSearchCV(dt_model_tune, param_grid, cv=3, scoring='accuracy')\n",
    "grid_search.fit(X_val, y_val)\n",
    "\n",
    "print('Best tuned Decision Tree Parameters: ', grid_search.best_params_)\n",
    "best_model_dt = DecisionTreeClassifier(**grid_search.best_params_)\n",
    "best_model_dt.fit(X_train, y_train)\n",
    "y_pred_tune = best_model_dt.predict(X_test)\n",
    "dt_accuracy_after = accuracy_score(y_test, y_pred_tune)\n",
    "model_scores['DT-after'] = dt_accuracy_after\n",
    "\n",
    "print(f'Decision Tree Accuracy\\n\\tBefore Tunning -> {dt_accuracy_before}\\n\\tAfter Tunning -> {dt_accuracy_after}')"
   ]
  },
  {
   "cell_type": "markdown",
   "id": "2e02e0d2",
   "metadata": {},
   "source": [
    "## Model 3: Random Forest"
   ]
  },
  {
   "cell_type": "code",
   "execution_count": 14,
   "id": "a25d0b05",
   "metadata": {},
   "outputs": [
    {
     "name": "stdout",
     "output_type": "stream",
     "text": [
      "Best tuned Random Forest Parameters:  {'bootstrap': True, 'max_depth': None, 'max_features': 'auto', 'min_samples_leaf': 1, 'min_samples_split': 2, 'n_estimators': 50}\n",
      "Random Forest Accuracy\n",
      "\tBefore Tunning -> 0.3181818181818182\n",
      "\tAfter Tunning -> 0.45454545454545453\n"
     ]
    }
   ],
   "source": [
    "rf_model = RandomForestClassifier(random_state= random_state_num)\n",
    "rf_model.fit(X_train, y_train)\n",
    "y_pred = rf_model.predict(X_test)\n",
    "\n",
    "rf_accuracy_before = accuracy_score(y_test, y_pred)\n",
    "model_scores['RF-before'] = rf_accuracy_before\n",
    "\n",
    "# Now let's tune the parameters\n",
    "param_grid = {\n",
    "    'n_estimators': [50, 100, 200],\n",
    "    'max_depth': [None, 10, 20, 30],\n",
    "    'min_samples_split': [2, 5, 10],\n",
    "    'min_samples_leaf': [1, 2, 4],\n",
    "    'max_features': ['auto', 'sqrt', 'log2'],\n",
    "    'bootstrap': [True, False],\n",
    "}\n",
    "\n",
    "\n",
    "rf_model_tune = RandomForestClassifier(random_state= random_state_num)\n",
    "grid_search = GridSearchCV(rf_model_tune, param_grid, cv=3, scoring='accuracy')\n",
    "grid_search.fit(X_val, y_val)\n",
    "\n",
    "print('Best tuned Random Forest Parameters: ', grid_search.best_params_)\n",
    "best_model_rf = RandomForestClassifier(**grid_search.best_params_)\n",
    "best_model_rf.fit(X_train, y_train)\n",
    "y_pred_tune = best_model_rf.predict(X_test)\n",
    "rf_accuracy_after = accuracy_score(y_test, y_pred_tune)\n",
    "model_scores['RF-after'] = rf_accuracy_after\n",
    "\n",
    "print(f'Random Forest Accuracy\\n\\tBefore Tunning -> {rf_accuracy_before}\\n\\tAfter Tunning -> {rf_accuracy_after}')"
   ]
  },
  {
   "cell_type": "markdown",
   "id": "aee9061f",
   "metadata": {},
   "source": [
    "## Model 4: K-Nearest Neighbors (KNN)"
   ]
  },
  {
   "cell_type": "code",
   "execution_count": 15,
   "id": "577f222a",
   "metadata": {},
   "outputs": [
    {
     "name": "stdout",
     "output_type": "stream",
     "text": [
      "Best tuned Random Forest Parameters:  {'algorithm': 'auto', 'leaf_size': 10, 'n_neighbors': 9, 'p': 1, 'weights': 'distance'}\n",
      "Random Forest Accuracy\n",
      "\tBefore Tunning -> 0.13636363636363635\n",
      "\tAfter Tunning -> 0.09090909090909091\n"
     ]
    }
   ],
   "source": [
    "knn_model = KNeighborsClassifier()\n",
    "knn_model.fit(X_train, y_train)\n",
    "y_pred = knn_model.predict(X_test)\n",
    "\n",
    "knn_accuracy_before = accuracy_score(y_test, y_pred)\n",
    "model_scores['KNN-before'] = knn_accuracy_before\n",
    "\n",
    "# Now let's tune the parameters\n",
    "param_grid = {\n",
    "    'n_neighbors': [3, 5, 7, 9],\n",
    "    'weights': ['uniform', 'distance'],\n",
    "    'algorithm': ['auto', 'ball_tree', 'kd_tree', 'brute'],\n",
    "    'p': [1, 2],\n",
    "    'leaf_size': [10, 20, 30, 40],\n",
    "}\n",
    "\n",
    "\n",
    "knn_model_tune = KNeighborsClassifier()\n",
    "grid_search = GridSearchCV(knn_model_tune, param_grid, cv=3, scoring='accuracy')\n",
    "grid_search.fit(X_val, y_val)\n",
    "\n",
    "print('Best tuned Random Forest Parameters: ', grid_search.best_params_)\n",
    "best_model_knn = KNeighborsClassifier(**grid_search.best_params_)\n",
    "best_model_knn.fit(X_train, y_train)\n",
    "y_pred_tune = best_model_knn.predict(X_test)\n",
    "knn_accuracy_after = accuracy_score(y_test, y_pred_tune)\n",
    "model_scores['KNN-after'] = knn_accuracy_after\n",
    "\n",
    "print(f'Random Forest Accuracy\\n\\tBefore Tunning -> {knn_accuracy_before}\\n\\tAfter Tunning -> {knn_accuracy_after}')"
   ]
  },
  {
   "cell_type": "markdown",
   "id": "55d81163",
   "metadata": {},
   "source": [
    "## Model 5: Support Vector Machines"
   ]
  },
  {
   "cell_type": "code",
   "execution_count": 16,
   "id": "40a23fa7",
   "metadata": {},
   "outputs": [
    {
     "name": "stdout",
     "output_type": "stream",
     "text": [
      "Best tuned Random Forest Parameters:  {'C': 0.1, 'coef0': 0.0, 'degree': 3, 'gamma': 'scale', 'kernel': 'poly'}\n",
      "SVC Accuracy\n",
      "\tBefore Tunning -> 0.18181818181818182\n",
      "\tAfter Tunning -> 0.18181818181818182\n"
     ]
    }
   ],
   "source": [
    "svc_model = SVC()\n",
    "svc_model.fit(X_train, y_train)\n",
    "y_pred = svc_model.predict(X_test)\n",
    "\n",
    "svc_accuracy_before = accuracy_score(y_test, y_pred)\n",
    "model_scores['SVC-before'] = svc_accuracy_before\n",
    "\n",
    "# Now let's tune the parameters\n",
    "param_grid = {\n",
    "    'C': [0.1, 1, 10],\n",
    "    'kernel': ['linear', 'rbf', 'poly'],\n",
    "    'gamma': ['scale', 'auto'],\n",
    "    'degree': [2, 3, 4],\n",
    "    'coef0': [0.0, 0.1, 1.0],\n",
    "}\n",
    "\n",
    "\n",
    "\n",
    "svc_model_tune = SVC()\n",
    "grid_search = GridSearchCV(svc_model_tune, param_grid, cv=3, scoring='accuracy')\n",
    "grid_search.fit(X_val, y_val)\n",
    "\n",
    "print('Best tuned Random Forest Parameters: ', grid_search.best_params_)\n",
    "\n",
    "best_model_svc = SVC(**grid_search.best_params_)\n",
    "best_model_svc.fit(X_train, y_train)\n",
    "y_pred_tune = best_model_svc.predict(X_test)\n",
    "svc_accuracy_after = accuracy_score(y_test, y_pred_tune)\n",
    "model_scores['SVC-after'] = svc_accuracy_after\n",
    "\n",
    "print(f'SVC Accuracy\\n\\tBefore Tunning -> {svc_accuracy_before}\\n\\tAfter Tunning -> {svc_accuracy_after}')"
   ]
  },
  {
   "cell_type": "markdown",
   "id": "3a8138c5",
   "metadata": {},
   "source": [
    "## Model Comparisons"
   ]
  },
  {
   "cell_type": "code",
   "execution_count": 18,
   "id": "3a18fd2c",
   "metadata": {},
   "outputs": [
    {
     "data": {
      "image/png": "[encoded data removed]",
      "text/plain": [
       "<Figure size 1000x600 with 1 Axes>"
      ]
     },
     "metadata": {},
     "output_type": "display_data"
    }
   ],
   "source": [
    "model_scores\n",
    "sorted_data = dict(sorted(model_scores.items()))\n",
    "\n",
    "# Extract keys and values\n",
    "labels = list(sorted_data.keys())\n",
    "values = list(sorted_data.values())\n",
    "\n",
    "# Plotting the bar chart\n",
    "plt.figure(figsize=(10, 6))\n",
    "plt.bar(labels, values, color=['blue' if 'before' in label else 'orange' for label in labels])\n",
    "plt.title('Comparison of Models Before and After')\n",
    "plt.xlabel('Models')\n",
    "plt.ylabel('Accuracy')\n",
    "plt.xticks(rotation=45, ha='right')  # Rotate x-axis labels for better readability\n",
    "plt.tight_layout()\n",
    "\n",
    "# Show the plot\n",
    "plt.show()"
   ]
  },
  {
   "cell_type": "markdown",
   "id": "fbac4ccf",
   "metadata": {},
   "source": [
    "## Observations\n",
    "\n",
    "1. Based on the plot above, the Random Forest Classifier seems to be the best suited modle for this data set considering accuracy as the model comparison criteria.\n",
    "2. The accuracy of RF classifier improved to 0.45 from 0.31 and best tuned hyper-parameters are identified as:<br>\n",
    "    'bootstrap': True, 'max_depth': None, 'max_features': 'auto', 'min_samples_leaf': 1, 'min_samples_split': 2, 'n_estimators': 50"
   ]
  }
 ],
 "metadata": {
  "kernelspec": {
   "display_name": "Python 3 (ipykernel)",
   "language": "python",
   "name": "python3"
  },
  "language_info": {
   "codemirror_mode": {
    "name": "ipython",
    "version": 3
   },
   "file_extension": ".py",
   "mimetype": "text/x-python",
   "name": "python",
   "nbconvert_exporter": "python",
   "pygments_lexer": "ipython3",
   "version": "3.11.4"
  }
 },
 "nbformat": 4,
 "nbformat_minor": 5
}
